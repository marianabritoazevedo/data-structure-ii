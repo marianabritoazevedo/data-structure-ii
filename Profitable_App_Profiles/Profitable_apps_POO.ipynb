{
  "nbformat": 4,
  "nbformat_minor": 0,
  "metadata": {
    "colab": {
      "provenance": []
    },
    "kernelspec": {
      "name": "python3",
      "display_name": "Python 3"
    },
    "language_info": {
      "name": "python"
    }
  },
  "cells": [
    {
      "cell_type": "markdown",
      "source": [
        "# Profitable app profiles for the App Store and Google Play Market:"
      ],
      "metadata": {
        "id": "kVDHm8spk1EZ"
      }
    },
    {
      "cell_type": "markdown",
      "source": [
        "## This project aims to analyze data for a company that builds Android and iOS mobile apps, with the goal to understand what kind of apps are more attractive for users on Google Play and App Store\n",
        "\n",
        "\n",
        "> The code created at the guided project from dataquest will be adapted to use the main concepts of objected-oriented programming (OOP)\n",
        "\n"
      ],
      "metadata": {
        "id": "lXRjkFJzk7G2"
      }
    },
    {
      "cell_type": "markdown",
      "source": [
        "### Class Dataset \n",
        "\n",
        "\n",
        "> This class will be responsible for storing the dataset, whether referring to Apple or Google apps, in order to perform all the functions of cleaning, organizing and analyzing the data\n",
        "\n"
      ],
      "metadata": {
        "id": "hsgAckqym5PV"
      }
    },
    {
      "cell_type": "code",
      "source": [
        "from csv import reader\n",
        "\n",
        "class Dataset():\n",
        "  def __init__(self, file):\n",
        "    '''This function will recieve the filename of the dataset and store its information in list of lists'''\n",
        "    open_file = open(file)\n",
        "    read_file = reader(open_file)\n",
        "    complet_file = list(read_file)\n",
        "    self.header = complet_file[0:1]\n",
        "    self.data = complet_file[1:] \n",
        "  \n",
        "  def explore_data(self, start, end, rows_and_columns=False):\n",
        "    '''This functions explores the dataset's data, including or not the number of rows and columns'''\n",
        "    dataset_slice = self.data[start:end]\n",
        "    for row in dataset_slice:\n",
        "        print(row)\n",
        "        print('\\n')\n",
        "    if rows_and_columns:\n",
        "        print('Number of rows:', len(self.data))\n",
        "        print('Number of columns:', len(self.data[0]))\n",
        "\n",
        "  def delete_wrong_row(self, index):\n",
        "    '''This function deletes a wrong row present on the dataset'''\n",
        "    del self.data[index]\n",
        "  \n",
        "  def remove_duplicate_rows(self):\n",
        "    '''This function removes any duplicated rows in the dataset\n",
        "       Important: the rows won't be deleted randomly, we'll keep the ones with the highest number of reviews\n",
        "       Also important: there are duplicated rows only for Google Play Store data\n",
        "    '''\n",
        "    #Checking the number of duplicated rows\n",
        "    duplicate = []\n",
        "    unique = []\n",
        "\n",
        "    for app in self.data:\n",
        "      name = app[0]\n",
        "      if name in unique:\n",
        "          duplicate.append(name)\n",
        "      else:\n",
        "          unique.append(name)\n",
        "    duplicated = len(duplicate)\n",
        "\n",
        "    #Number of rows in the dataset without any duplicated rows\n",
        "    reviews_max = {}\n",
        "    for app in self.data:\n",
        "      name = app[0]\n",
        "      n_reviews = float(app[3])\n",
        "      if name in reviews_max and reviews_max[name] < n_reviews:\n",
        "          reviews_max[name] = n_reviews\n",
        "      elif name not in reviews_max:\n",
        "          reviews_max[name] = n_reviews\n",
        "    \n",
        "    correct_number_of_rows = len(reviews_max)\n",
        "\n",
        "    #Cleaning the data\n",
        "    cleaned_data = []\n",
        "    already_added = []\n",
        "    for app in self.data:\n",
        "      name = app[0]\n",
        "      n_reviews = float(app[3])\n",
        "      if n_reviews == reviews_max[name] and name not in already_added:\n",
        "          cleaned_data.append(app)\n",
        "          already_added.append(name)\n",
        "    self.data = cleaned_data\n",
        "    actual_number_of_rows = len(self.data)\n",
        "\n",
        "    print(f'Number of duplicated rows: {duplicated}')\n",
        "    print(f'Correct number of rows without any duplicated: {correct_number_of_rows}')\n",
        "    print(f'Actual number of rows after cleaning: {actual_number_of_rows}')\n",
        "  \n",
        "  def is_english(string):\n",
        "    '''This function checks if the apps names are in english or not\n",
        "       Important: it may have emojis at the app's name, so, we'll keep a maximum of 3 non-English characters   \n",
        "    '''\n",
        "    non_english = 0\n",
        "    for l in string:\n",
        "        num = ord(l)\n",
        "        if num > 127:\n",
        "            non_english += 1\n",
        "    if non_english > 3:\n",
        "        return False\n",
        "    else:\n",
        "        return True\n",
        "\n",
        "  def remove_non_english_apps(self):\n",
        "    '''This function removes apps with non-english characters'''\n",
        "    english = []\n",
        "    for app in self.data:\n",
        "      name = app[0]\n",
        "      if Dataset.is_english(name):\n",
        "        english.append(app)\n",
        "    self.data = english\n",
        "\n",
        "    print(f'Actual size of dataset: {len(self.data)}')\n",
        "\n",
        "  def include_only_free_apps(self, index):\n",
        "    '''This function includes only free apps in the dataset\n",
        "       Important: the column price index for the datasets is different, so it must be passed as a function parameter\n",
        "    '''\n",
        "    final = []\n",
        "    for app in self.data:\n",
        "      price = app[index]\n",
        "      if price == '0' or price == '0.0':\n",
        "        final.append(app)\n",
        "    self.data = final\n",
        "    print(f'Actual size of dataset: {len(self.data)}')\n",
        "\n",
        "  def freq_table(self, index):\n",
        "    '''This function calculares the frequency table for a column in the dataset'''\n",
        "    dic = {}\n",
        "    total = 0\n",
        "    for row in self.data:\n",
        "        feature = row[index]\n",
        "        if feature in dic:\n",
        "            dic[feature] += 1\n",
        "        else:\n",
        "            dic[feature] = 1\n",
        "        total += 1\n",
        "    dic_porc = {}\n",
        "    for key in dic:\n",
        "        porc = (dic[key]/total)*100\n",
        "        dic_porc[key] = porc\n",
        "    return dic_porc\n",
        "\n",
        "  def display_table(self, index):\n",
        "    '''This function displays the frequency table for a column in the dataset'''\n",
        "    table = self.freq_table(index)\n",
        "    table_display = []\n",
        "    for key in table:\n",
        "        key_val_as_tuple = (table[key], key)\n",
        "        table_display.append(key_val_as_tuple)\n",
        "    table_sorted = sorted(table_display, reverse = True)\n",
        "    for entry in table_sorted:\n",
        "        print(entry[1], ':', entry[0])\n",
        "  \n",
        "  def get_dataset(self):\n",
        "    return self.data"
      ],
      "metadata": {
        "id": "AL3RBvGFm3G-"
      },
      "execution_count": 105,
      "outputs": []
    },
    {
      "cell_type": "markdown",
      "source": [
        "### Instanciating classes"
      ],
      "metadata": {
        "id": "aelGgNg0sspR"
      }
    },
    {
      "cell_type": "code",
      "execution_count": 106,
      "metadata": {
        "id": "lpOcaAXejGHg"
      },
      "outputs": [],
      "source": [
        "google = Dataset('googleplaystore.csv')\n",
        "apple = Dataset('AppleStore.csv')"
      ]
    },
    {
      "cell_type": "markdown",
      "source": [
        "### Exploring data"
      ],
      "metadata": {
        "id": "81nvckPps9qs"
      }
    },
    {
      "cell_type": "code",
      "source": [
        "google.explore_data(0, 5, True)"
      ],
      "metadata": {
        "colab": {
          "base_uri": "https://localhost:8080/"
        },
        "id": "mcSjHmXAs-9_",
        "outputId": "47d2d2f0-3701-493c-9570-e351d8a9a6d8"
      },
      "execution_count": 107,
      "outputs": [
        {
          "output_type": "stream",
          "name": "stdout",
          "text": [
            "['Photo Editor & Candy Camera & Grid & ScrapBook', 'ART_AND_DESIGN', '4.1', '159', '19M', '10,000+', 'Free', '0', 'Everyone', 'Art & Design', 'January 7, 2018', '1.0.0', '4.0.3 and up']\n",
            "\n",
            "\n",
            "['Coloring book moana', 'ART_AND_DESIGN', '3.9', '967', '14M', '500,000+', 'Free', '0', 'Everyone', 'Art & Design;Pretend Play', 'January 15, 2018', '2.0.0', '4.0.3 and up']\n",
            "\n",
            "\n",
            "['U Launcher Lite – FREE Live Cool Themes, Hide Apps', 'ART_AND_DESIGN', '4.7', '87510', '8.7M', '5,000,000+', 'Free', '0', 'Everyone', 'Art & Design', 'August 1, 2018', '1.2.4', '4.0.3 and up']\n",
            "\n",
            "\n",
            "['Sketch - Draw & Paint', 'ART_AND_DESIGN', '4.5', '215644', '25M', '50,000,000+', 'Free', '0', 'Teen', 'Art & Design', 'June 8, 2018', 'Varies with device', '4.2 and up']\n",
            "\n",
            "\n",
            "['Pixel Draw - Number Art Coloring Book', 'ART_AND_DESIGN', '4.3', '967', '2.8M', '100,000+', 'Free', '0', 'Everyone', 'Art & Design;Creativity', 'June 20, 2018', '1.1', '4.4 and up']\n",
            "\n",
            "\n",
            "Number of rows: 10841\n",
            "Number of columns: 13\n"
          ]
        }
      ]
    },
    {
      "cell_type": "code",
      "source": [
        "apple.explore_data(0, 5, True)"
      ],
      "metadata": {
        "colab": {
          "base_uri": "https://localhost:8080/"
        },
        "id": "YCOkGYrXtV1b",
        "outputId": "56e470b0-1bec-496b-8e01-2f1d3d70cc3e"
      },
      "execution_count": 108,
      "outputs": [
        {
          "output_type": "stream",
          "name": "stdout",
          "text": [
            "['284882215', 'Facebook', '389879808', 'USD', '0.0', '2974676', '212', '3.5', '3.5', '95.0', '4+', 'Social Networking', '37', '1', '29', '1']\n",
            "\n",
            "\n",
            "['389801252', 'Instagram', '113954816', 'USD', '0.0', '2161558', '1289', '4.5', '4.0', '10.23', '12+', 'Photo & Video', '37', '0', '29', '1']\n",
            "\n",
            "\n",
            "['529479190', 'Clash of Clans', '116476928', 'USD', '0.0', '2130805', '579', '4.5', '4.5', '9.24.12', '9+', 'Games', '38', '5', '18', '1']\n",
            "\n",
            "\n",
            "['420009108', 'Temple Run', '65921024', 'USD', '0.0', '1724546', '3842', '4.5', '4.0', '1.6.2', '9+', 'Games', '40', '5', '1', '1']\n",
            "\n",
            "\n",
            "['284035177', 'Pandora - Music & Radio', '130242560', 'USD', '0.0', '1126879', '3594', '4.0', '4.5', '8.4.1', '12+', 'Music', '37', '4', '1', '1']\n",
            "\n",
            "\n",
            "Number of rows: 7197\n",
            "Number of columns: 16\n"
          ]
        }
      ]
    },
    {
      "cell_type": "markdown",
      "source": [
        "### Deleting wrong column from Google Play Store Data"
      ],
      "metadata": {
        "id": "oFq2hRfTtdTC"
      }
    },
    {
      "cell_type": "code",
      "source": [
        "google.delete_wrong_row(10472)"
      ],
      "metadata": {
        "id": "Ca2odm3nthhN"
      },
      "execution_count": 109,
      "outputs": []
    },
    {
      "cell_type": "markdown",
      "source": [
        "### Removing duplicate rows from Google Play Store Data"
      ],
      "metadata": {
        "id": "2dEj_TJLtmGX"
      }
    },
    {
      "cell_type": "code",
      "source": [
        "google.remove_duplicate_rows()"
      ],
      "metadata": {
        "colab": {
          "base_uri": "https://localhost:8080/"
        },
        "id": "HwARHO63tpHg",
        "outputId": "f4f1598c-8e13-412a-8c17-0a95927f1954"
      },
      "execution_count": 110,
      "outputs": [
        {
          "output_type": "stream",
          "name": "stdout",
          "text": [
            "Number of duplicated rows: 1181\n",
            "Correct number of rows without any duplicated: 9659\n",
            "Actual number of rows after cleaning: 9659\n"
          ]
        }
      ]
    },
    {
      "cell_type": "markdown",
      "source": [
        "### Removing non-English apps"
      ],
      "metadata": {
        "id": "kL3QWNZgvHwy"
      }
    },
    {
      "cell_type": "code",
      "source": [
        "google.remove_non_english_apps()"
      ],
      "metadata": {
        "colab": {
          "base_uri": "https://localhost:8080/"
        },
        "id": "pxjNzGfavKdP",
        "outputId": "b9a035c7-bcf4-45af-eb16-650f98946262"
      },
      "execution_count": 111,
      "outputs": [
        {
          "output_type": "stream",
          "name": "stdout",
          "text": [
            "Actual size of dataset: 9614\n"
          ]
        }
      ]
    },
    {
      "cell_type": "code",
      "source": [
        "apple.remove_non_english_apps()"
      ],
      "metadata": {
        "colab": {
          "base_uri": "https://localhost:8080/"
        },
        "id": "ENakcQC-vO8Z",
        "outputId": "0f541ce0-9fe5-476e-8fb7-72513a473ffb"
      },
      "execution_count": 112,
      "outputs": [
        {
          "output_type": "stream",
          "name": "stdout",
          "text": [
            "Actual size of dataset: 7197\n"
          ]
        }
      ]
    },
    {
      "cell_type": "markdown",
      "source": [
        "### Including only free apps"
      ],
      "metadata": {
        "id": "v3uq4R8Zv70h"
      }
    },
    {
      "cell_type": "code",
      "source": [
        "google.include_only_free_apps(7)"
      ],
      "metadata": {
        "colab": {
          "base_uri": "https://localhost:8080/"
        },
        "id": "1fEJjYljv9oH",
        "outputId": "c106eb3c-bc7f-48de-ca1a-ee56fbcb36af"
      },
      "execution_count": 113,
      "outputs": [
        {
          "output_type": "stream",
          "name": "stdout",
          "text": [
            "Actual size of dataset: 8864\n"
          ]
        }
      ]
    },
    {
      "cell_type": "code",
      "source": [
        "apple.include_only_free_apps(4)"
      ],
      "metadata": {
        "colab": {
          "base_uri": "https://localhost:8080/"
        },
        "id": "onG9b97bwCRK",
        "outputId": "69815cad-bec1-4920-cae1-b3c3d013f9ad"
      },
      "execution_count": 114,
      "outputs": [
        {
          "output_type": "stream",
          "name": "stdout",
          "text": [
            "Actual size of dataset: 4056\n"
          ]
        }
      ]
    },
    {
      "cell_type": "markdown",
      "source": [
        "### Inspecting data"
      ],
      "metadata": {
        "id": "YFTZALFMw5Aa"
      }
    },
    {
      "cell_type": "markdown",
      "source": [
        "#### prime_genre column at Apple Store Dataset"
      ],
      "metadata": {
        "id": "J6NkmUbiw9nO"
      }
    },
    {
      "cell_type": "code",
      "source": [
        "apple.display_table(-5)"
      ],
      "metadata": {
        "colab": {
          "base_uri": "https://localhost:8080/"
        },
        "id": "5U0KGHCew67C",
        "outputId": "d757a548-81f4-4733-a473-71bafa51c3ed"
      },
      "execution_count": 115,
      "outputs": [
        {
          "output_type": "stream",
          "name": "stdout",
          "text": [
            "Games : 55.64595660749507\n",
            "Entertainment : 8.234714003944774\n",
            "Photo & Video : 4.117357001972387\n",
            "Social Networking : 3.5256410256410255\n",
            "Education : 3.2544378698224854\n",
            "Shopping : 2.983234714003945\n",
            "Utilities : 2.687376725838264\n",
            "Lifestyle : 2.3175542406311638\n",
            "Finance : 2.0710059171597637\n",
            "Sports : 1.947731755424063\n",
            "Health & Fitness : 1.8737672583826428\n",
            "Music : 1.6518737672583828\n",
            "Book : 1.6272189349112427\n",
            "Productivity : 1.5285996055226825\n",
            "News : 1.4299802761341223\n",
            "Travel : 1.3806706114398422\n",
            "Food & Drink : 1.0601577909270217\n",
            "Weather : 0.7642998027613412\n",
            "Reference : 0.4930966469428008\n",
            "Navigation : 0.4930966469428008\n",
            "Business : 0.4930966469428008\n",
            "Catalogs : 0.22189349112426035\n",
            "Medical : 0.19723865877712032\n"
          ]
        }
      ]
    },
    {
      "cell_type": "markdown",
      "source": [
        "#### Category column at Google Play Store Dataset"
      ],
      "metadata": {
        "id": "rdSvu5sSxmAi"
      }
    },
    {
      "cell_type": "code",
      "source": [
        "google.display_table(1)"
      ],
      "metadata": {
        "colab": {
          "base_uri": "https://localhost:8080/"
        },
        "id": "upqssIwhxpRA",
        "outputId": "c02c5c6a-1415-4a2f-cc7e-778335d13b81"
      },
      "execution_count": 116,
      "outputs": [
        {
          "output_type": "stream",
          "name": "stdout",
          "text": [
            "FAMILY : 18.907942238267147\n",
            "GAME : 9.724729241877256\n",
            "TOOLS : 8.461191335740072\n",
            "BUSINESS : 4.591606498194946\n",
            "LIFESTYLE : 3.9034296028880866\n",
            "PRODUCTIVITY : 3.892148014440433\n",
            "FINANCE : 3.7003610108303246\n",
            "MEDICAL : 3.531137184115524\n",
            "SPORTS : 3.395758122743682\n",
            "PERSONALIZATION : 3.3167870036101084\n",
            "COMMUNICATION : 3.2378158844765346\n",
            "HEALTH_AND_FITNESS : 3.0798736462093865\n",
            "PHOTOGRAPHY : 2.944494584837545\n",
            "NEWS_AND_MAGAZINES : 2.7978339350180503\n",
            "SOCIAL : 2.6624548736462095\n",
            "TRAVEL_AND_LOCAL : 2.33528880866426\n",
            "SHOPPING : 2.2450361010830324\n",
            "BOOKS_AND_REFERENCE : 2.1435018050541514\n",
            "DATING : 1.861462093862816\n",
            "VIDEO_PLAYERS : 1.7937725631768955\n",
            "MAPS_AND_NAVIGATION : 1.3989169675090252\n",
            "FOOD_AND_DRINK : 1.2409747292418771\n",
            "EDUCATION : 1.1620036101083033\n",
            "ENTERTAINMENT : 0.9589350180505415\n",
            "LIBRARIES_AND_DEMO : 0.9363718411552346\n",
            "AUTO_AND_VEHICLES : 0.9250902527075812\n",
            "HOUSE_AND_HOME : 0.8235559566787004\n",
            "WEATHER : 0.8009927797833934\n",
            "EVENTS : 0.7107400722021661\n",
            "PARENTING : 0.6543321299638989\n",
            "ART_AND_DESIGN : 0.6430505415162455\n",
            "COMICS : 0.6204873646209386\n",
            "BEAUTY : 0.5979241877256317\n"
          ]
        }
      ]
    },
    {
      "cell_type": "markdown",
      "source": [
        "#### Genres column at Google Play Store Dataset"
      ],
      "metadata": {
        "id": "cucvrMNexu2r"
      }
    },
    {
      "cell_type": "code",
      "source": [
        "google.display_table(-4)"
      ],
      "metadata": {
        "colab": {
          "base_uri": "https://localhost:8080/"
        },
        "id": "Gaf41ncaxytn",
        "outputId": "98513de9-f32f-4292-e47b-2c78be9056da"
      },
      "execution_count": 117,
      "outputs": [
        {
          "output_type": "stream",
          "name": "stdout",
          "text": [
            "Tools : 8.449909747292418\n",
            "Entertainment : 6.069494584837545\n",
            "Education : 5.347472924187725\n",
            "Business : 4.591606498194946\n",
            "Productivity : 3.892148014440433\n",
            "Lifestyle : 3.892148014440433\n",
            "Finance : 3.7003610108303246\n",
            "Medical : 3.531137184115524\n",
            "Sports : 3.463447653429603\n",
            "Personalization : 3.3167870036101084\n",
            "Communication : 3.2378158844765346\n",
            "Action : 3.1024368231046933\n",
            "Health & Fitness : 3.0798736462093865\n",
            "Photography : 2.944494584837545\n",
            "News & Magazines : 2.7978339350180503\n",
            "Social : 2.6624548736462095\n",
            "Travel & Local : 2.3240072202166067\n",
            "Shopping : 2.2450361010830324\n",
            "Books & Reference : 2.1435018050541514\n",
            "Simulation : 2.0419675090252705\n",
            "Dating : 1.861462093862816\n",
            "Arcade : 1.8501805054151623\n",
            "Video Players & Editors : 1.7712093862815883\n",
            "Casual : 1.7599277978339352\n",
            "Maps & Navigation : 1.3989169675090252\n",
            "Food & Drink : 1.2409747292418771\n",
            "Puzzle : 1.128158844765343\n",
            "Racing : 0.9927797833935018\n",
            "Role Playing : 0.9363718411552346\n",
            "Libraries & Demo : 0.9363718411552346\n",
            "Auto & Vehicles : 0.9250902527075812\n",
            "Strategy : 0.9138086642599278\n",
            "House & Home : 0.8235559566787004\n",
            "Weather : 0.8009927797833934\n",
            "Events : 0.7107400722021661\n",
            "Adventure : 0.6768953068592057\n",
            "Comics : 0.6092057761732852\n",
            "Beauty : 0.5979241877256317\n",
            "Art & Design : 0.5979241877256317\n",
            "Parenting : 0.4963898916967509\n",
            "Card : 0.45126353790613716\n",
            "Casino : 0.42870036101083037\n",
            "Trivia : 0.41741877256317694\n",
            "Educational;Education : 0.39485559566787\n",
            "Board : 0.3835740072202166\n",
            "Educational : 0.3722924187725632\n",
            "Education;Education : 0.33844765342960287\n",
            "Word : 0.2594765342960289\n",
            "Casual;Pretend Play : 0.236913357400722\n",
            "Music : 0.2030685920577617\n",
            "Racing;Action & Adventure : 0.16922382671480143\n",
            "Puzzle;Brain Games : 0.16922382671480143\n",
            "Entertainment;Music & Video : 0.16922382671480143\n",
            "Casual;Brain Games : 0.13537906137184114\n",
            "Casual;Action & Adventure : 0.13537906137184114\n",
            "Arcade;Action & Adventure : 0.12409747292418773\n",
            "Action;Action & Adventure : 0.10153429602888085\n",
            "Educational;Pretend Play : 0.09025270758122744\n",
            "Simulation;Action & Adventure : 0.078971119133574\n",
            "Parenting;Education : 0.078971119133574\n",
            "Entertainment;Brain Games : 0.078971119133574\n",
            "Board;Brain Games : 0.078971119133574\n",
            "Parenting;Music & Video : 0.06768953068592057\n",
            "Educational;Brain Games : 0.06768953068592057\n",
            "Casual;Creativity : 0.06768953068592057\n",
            "Art & Design;Creativity : 0.06768953068592057\n",
            "Education;Pretend Play : 0.056407942238267145\n",
            "Role Playing;Pretend Play : 0.04512635379061372\n",
            "Education;Creativity : 0.04512635379061372\n",
            "Role Playing;Action & Adventure : 0.033844765342960284\n",
            "Puzzle;Action & Adventure : 0.033844765342960284\n",
            "Entertainment;Creativity : 0.033844765342960284\n",
            "Entertainment;Action & Adventure : 0.033844765342960284\n",
            "Educational;Creativity : 0.033844765342960284\n",
            "Educational;Action & Adventure : 0.033844765342960284\n",
            "Education;Music & Video : 0.033844765342960284\n",
            "Education;Brain Games : 0.033844765342960284\n",
            "Education;Action & Adventure : 0.033844765342960284\n",
            "Adventure;Action & Adventure : 0.033844765342960284\n",
            "Video Players & Editors;Music & Video : 0.02256317689530686\n",
            "Sports;Action & Adventure : 0.02256317689530686\n",
            "Simulation;Pretend Play : 0.02256317689530686\n",
            "Puzzle;Creativity : 0.02256317689530686\n",
            "Music;Music & Video : 0.02256317689530686\n",
            "Entertainment;Pretend Play : 0.02256317689530686\n",
            "Casual;Education : 0.02256317689530686\n",
            "Board;Action & Adventure : 0.02256317689530686\n",
            "Video Players & Editors;Creativity : 0.01128158844765343\n",
            "Trivia;Education : 0.01128158844765343\n",
            "Travel & Local;Action & Adventure : 0.01128158844765343\n",
            "Tools;Education : 0.01128158844765343\n",
            "Strategy;Education : 0.01128158844765343\n",
            "Strategy;Creativity : 0.01128158844765343\n",
            "Strategy;Action & Adventure : 0.01128158844765343\n",
            "Simulation;Education : 0.01128158844765343\n",
            "Role Playing;Brain Games : 0.01128158844765343\n",
            "Racing;Pretend Play : 0.01128158844765343\n",
            "Puzzle;Education : 0.01128158844765343\n",
            "Parenting;Brain Games : 0.01128158844765343\n",
            "Music & Audio;Music & Video : 0.01128158844765343\n",
            "Lifestyle;Pretend Play : 0.01128158844765343\n",
            "Lifestyle;Education : 0.01128158844765343\n",
            "Health & Fitness;Education : 0.01128158844765343\n",
            "Health & Fitness;Action & Adventure : 0.01128158844765343\n",
            "Entertainment;Education : 0.01128158844765343\n",
            "Communication;Creativity : 0.01128158844765343\n",
            "Comics;Creativity : 0.01128158844765343\n",
            "Casual;Music & Video : 0.01128158844765343\n",
            "Card;Action & Adventure : 0.01128158844765343\n",
            "Books & Reference;Education : 0.01128158844765343\n",
            "Art & Design;Pretend Play : 0.01128158844765343\n",
            "Art & Design;Action & Adventure : 0.01128158844765343\n",
            "Arcade;Pretend Play : 0.01128158844765343\n",
            "Adventure;Education : 0.01128158844765343\n"
          ]
        }
      ]
    },
    {
      "cell_type": "markdown",
      "source": [
        "### Average number of installs for each app genre at Apple Store dataset"
      ],
      "metadata": {
        "id": "0Om5h4mXzDJr"
      }
    },
    {
      "cell_type": "code",
      "source": [
        "genres_apple = apple.freq_table(-5)\n",
        "\n",
        "for genre in genres_apple:\n",
        "    total = 0\n",
        "    len_genre = 0\n",
        "    for app in apple.get_dataset():\n",
        "        genre_app = app[-5]\n",
        "        if genre_app == genre:\n",
        "            number_ratings = float(app[5])\n",
        "            total += number_ratings\n",
        "            len_genre += 1\n",
        "    avg_ratings = total/len_genre\n",
        "    print(genre, ':', avg_ratings)"
      ],
      "metadata": {
        "colab": {
          "base_uri": "https://localhost:8080/"
        },
        "id": "VF_ZfHm0zLQi",
        "outputId": "418780f1-bf62-4cde-8735-1e177fdfa865"
      },
      "execution_count": 118,
      "outputs": [
        {
          "output_type": "stream",
          "name": "stdout",
          "text": [
            "Social Networking : 53078.195804195806\n",
            "Photo & Video : 27249.892215568863\n",
            "Games : 18924.68896765618\n",
            "Music : 56482.02985074627\n",
            "Reference : 67447.9\n",
            "Health & Fitness : 19952.315789473683\n",
            "Weather : 47220.93548387097\n",
            "Utilities : 14010.100917431193\n",
            "Travel : 20216.01785714286\n",
            "Shopping : 18746.677685950413\n",
            "News : 15892.724137931034\n",
            "Navigation : 25972.05\n",
            "Lifestyle : 8978.308510638299\n",
            "Entertainment : 10822.961077844311\n",
            "Food & Drink : 20179.093023255813\n",
            "Sports : 20128.974683544304\n",
            "Book : 8498.333333333334\n",
            "Finance : 13522.261904761905\n",
            "Education : 6266.333333333333\n",
            "Productivity : 19053.887096774193\n",
            "Business : 6367.8\n",
            "Catalogs : 1779.5555555555557\n",
            "Medical : 459.75\n"
          ]
        }
      ]
    },
    {
      "cell_type": "markdown",
      "source": [
        "#### Average number of installs for each category at Google App Store Dataset"
      ],
      "metadata": {
        "id": "8-CtoYGr0Yxh"
      }
    },
    {
      "cell_type": "code",
      "source": [
        "categories_android = google.freq_table(1)\n",
        "\n",
        "for category in categories_android:\n",
        "    total = 0\n",
        "    len_category = 0\n",
        "    for app in google.get_dataset():\n",
        "        category_app = app[1]\n",
        "        if category_app == category:            \n",
        "            n_installs = app[5]\n",
        "            n_installs = n_installs.replace(',', '')\n",
        "            n_installs = n_installs.replace('+', '')\n",
        "            total += float(n_installs)\n",
        "            len_category += 1\n",
        "    avg_n_installs = total / len_category\n",
        "    print(category, ':', avg_n_installs)"
      ],
      "metadata": {
        "colab": {
          "base_uri": "https://localhost:8080/"
        },
        "id": "B0YcsTlY0dRi",
        "outputId": "dbaad737-fb96-4ee5-b0d7-14ebeb068191"
      },
      "execution_count": 119,
      "outputs": [
        {
          "output_type": "stream",
          "name": "stdout",
          "text": [
            "ART_AND_DESIGN : 1986335.0877192982\n",
            "AUTO_AND_VEHICLES : 647317.8170731707\n",
            "BEAUTY : 513151.88679245283\n",
            "BOOKS_AND_REFERENCE : 8767811.894736841\n",
            "BUSINESS : 1712290.1474201474\n",
            "COMICS : 817657.2727272727\n",
            "COMMUNICATION : 38456119.167247385\n",
            "DATING : 854028.8303030303\n",
            "EDUCATION : 1833495.145631068\n",
            "ENTERTAINMENT : 11640705.88235294\n",
            "EVENTS : 253542.22222222222\n",
            "FINANCE : 1387692.475609756\n",
            "FOOD_AND_DRINK : 1924897.7363636363\n",
            "HEALTH_AND_FITNESS : 4188821.9853479853\n",
            "HOUSE_AND_HOME : 1331540.5616438356\n",
            "LIBRARIES_AND_DEMO : 638503.734939759\n",
            "LIFESTYLE : 1437816.2687861272\n",
            "GAME : 15588015.603248259\n",
            "FAMILY : 3695641.8198090694\n",
            "MEDICAL : 120550.61980830671\n",
            "SOCIAL : 23253652.127118643\n",
            "SHOPPING : 7036877.311557789\n",
            "PHOTOGRAPHY : 17840110.40229885\n",
            "SPORTS : 3638640.1428571427\n",
            "TRAVEL_AND_LOCAL : 13984077.710144928\n",
            "TOOLS : 10801391.298666667\n",
            "PERSONALIZATION : 5201482.6122448975\n",
            "PRODUCTIVITY : 16787331.344927534\n",
            "PARENTING : 542603.6206896552\n",
            "WEATHER : 5074486.197183099\n",
            "VIDEO_PLAYERS : 24727872.452830188\n",
            "NEWS_AND_MAGAZINES : 9549178.467741935\n",
            "MAPS_AND_NAVIGATION : 4056941.7741935486\n"
          ]
        }
      ]
    },
    {
      "cell_type": "markdown",
      "source": [
        "### Conclusions"
      ],
      "metadata": {
        "id": "FMpvcgO31YAc"
      }
    },
    {
      "cell_type": "markdown",
      "source": [
        "In this project, we analyzed data about the App Store and Google Play mobile apps with the goal of recommending an app profile that can be profitable for both markets.\n",
        "\n",
        "We concluded that taking a popular book (perhaps a more recent book) and turning it into an app could be profitable for both the Google Play and the App Store markets. The markets are already full of libraries, so we need to add some special features besides the raw version of the book. This might include daily quotes from the book, an audio version of the book, quizzes on the book, a forum where people can discuss the book, etc."
      ],
      "metadata": {
        "id": "EQhuiu4p1bQz"
      }
    }
  ]
}