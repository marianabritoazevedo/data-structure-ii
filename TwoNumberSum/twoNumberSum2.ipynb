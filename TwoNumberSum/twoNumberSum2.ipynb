{
  "nbformat": 4,
  "nbformat_minor": 0,
  "metadata": {
    "colab": {
      "provenance": []
    },
    "kernelspec": {
      "name": "python3",
      "display_name": "Python 3"
    },
    "language_info": {
      "name": "python"
    }
  },
  "cells": [
    {
      "cell_type": "markdown",
      "source": [
        "# TwoNumberSum Problem"
      ],
      "metadata": {
        "id": "iNoikDQF7qv_"
      }
    },
    {
      "cell_type": "markdown",
      "source": [
        "This algorithm aims to solve the following problem: given an array of integers and an integer value called `targetsum`, we want to check if there are two values in this array of numbers that, when added, result in the `targetsum`.\n"
      ],
      "metadata": {
        "id": "eGqljiis8Ejm"
      }
    },
    {
      "cell_type": "markdown",
      "source": [
        "For this, two solutions were implemented:\n",
        "- `TwoNumberSum`: with O(n²) complexity, where two repetition structures are implemented\n",
        "- `TwoNumberSum2`: with O(n) complexity, in which only one repetition structure is used, and a python data structure called dictionary is also handled"
      ],
      "metadata": {
        "id": "7h48goCe8zLR"
      }
    },
    {
      "cell_type": "markdown",
      "source": [
        "## Library install"
      ],
      "metadata": {
        "id": "f5NpqkqQSkmO"
      }
    },
    {
      "cell_type": "code",
      "execution_count": 1,
      "metadata": {
        "colab": {
          "base_uri": "https://localhost:8080/"
        },
        "id": "ns1A-Es5RG6v",
        "outputId": "bfccbdcc-bb54-46fa-91c5-56af0b1be0ee"
      },
      "outputs": [
        {
          "output_type": "stream",
          "name": "stdout",
          "text": [
            "Looking in indexes: https://pypi.org/simple, https://us-python.pkg.dev/colab-wheels/public/simple/\n",
            "Requirement already satisfied: pytest in /usr/local/lib/python3.7/dist-packages (3.6.4)\n",
            "Collecting pytest-sugar\n",
            "  Downloading pytest_sugar-0.9.5-py2.py3-none-any.whl (9.0 kB)\n",
            "Requirement already satisfied: attrs>=17.4.0 in /usr/local/lib/python3.7/dist-packages (from pytest) (22.1.0)\n",
            "Requirement already satisfied: more-itertools>=4.0.0 in /usr/local/lib/python3.7/dist-packages (from pytest) (8.14.0)\n",
            "Requirement already satisfied: pluggy<0.8,>=0.5 in /usr/local/lib/python3.7/dist-packages (from pytest) (0.7.1)\n",
            "Requirement already satisfied: setuptools in /usr/local/lib/python3.7/dist-packages (from pytest) (57.4.0)\n",
            "Requirement already satisfied: py>=1.5.0 in /usr/local/lib/python3.7/dist-packages (from pytest) (1.11.0)\n",
            "Requirement already satisfied: six>=1.10.0 in /usr/local/lib/python3.7/dist-packages (from pytest) (1.15.0)\n",
            "Requirement already satisfied: atomicwrites>=1.0 in /usr/local/lib/python3.7/dist-packages (from pytest) (1.4.1)\n",
            "Requirement already satisfied: packaging>=14.1 in /usr/local/lib/python3.7/dist-packages (from pytest-sugar) (21.3)\n",
            "Requirement already satisfied: termcolor>=1.1.0 in /usr/local/lib/python3.7/dist-packages (from pytest-sugar) (1.1.0)\n",
            "Requirement already satisfied: pyparsing!=3.0.5,>=2.0.2 in /usr/local/lib/python3.7/dist-packages (from packaging>=14.1->pytest-sugar) (3.0.9)\n",
            "Installing collected packages: pytest-sugar\n",
            "Successfully installed pytest-sugar-0.9.5\n"
          ]
        }
      ],
      "source": [
        "!pip install pytest pytest-sugar"
      ]
    },
    {
      "cell_type": "markdown",
      "source": [
        "## twoNumberSum: complexity O(n²)\n"
      ],
      "metadata": {
        "id": "qBNy_WVASp14"
      }
    },
    {
      "cell_type": "code",
      "source": [
        "%%file test_data.py\n",
        "import pytest\n",
        "\n",
        "def twoNumberSum(array, targetSum):\n",
        "  \"\"\"\n",
        "  Description:\n",
        "  A function that take in a non-empty array of distinct integers\n",
        "  and an integer representing a target sum. If any two numbers \n",
        "  in the input array sum up to the target sum, the function should\n",
        "  return then in an array, in any order. \n",
        "  If no two numbers sum up to the target sum, \n",
        "  the function should return an empty array.\n",
        "\n",
        "  Parameters:\n",
        "  array <list>: list of integers\n",
        "  targetSum <integer>: integer representing a target sum\n",
        "\n",
        "  Return:\n",
        "  Interger pair which sum is equal to targetSum\n",
        "  empty otherwise\n",
        "  \"\"\"\n",
        "  for i in range(len(array) - 1):\n",
        "    firstNum = array[i]\n",
        "    for j in range (i+1, len(array)):\n",
        "      secondNum = array[j]\n",
        "      if firstNum + secondNum == targetSum:\n",
        "        return [firstNum, secondNum]\n",
        "  return []\n",
        "\n",
        "@pytest.fixture(scope=\"session\")\n",
        "def data():\n",
        "    \n",
        "    array = []\n",
        "    \n",
        "    # test 1 data\n",
        "    array.append([3, 5, -4, 8, 11, 1, -1, 6])\n",
        "\n",
        "    # test 2 data\n",
        "    array.append([4, 6, 1, -3])\n",
        "\n",
        "    # test 3 data\n",
        "    array.append([1, 2, 3, 4, 5, 6, 7, 8, 9, 15])\n",
        "\n",
        "    # test 4 data\n",
        "    array.append([15])\n",
        "\n",
        "    # test 5 data\n",
        "    array.append([-21, 301, 12, 4, 65, 56, 210, 356, 9, -47])\n",
        "\n",
        "    # test 6 data\n",
        "    array.append([-21, 301, 12, 4, 65, 56, 210, 356, 9, -47])\n",
        "\n",
        "    # test 7 data\n",
        "    array.append([-7, -5, -3, -1, 0, 1, 3, 5, 7])\n",
        "    \n",
        "    return array\n",
        "\n",
        "def test_1(data):\n",
        "    \"\"\"\n",
        "    Test evaluation for [3, 5, -4, 8, 11, 1, -1, 6] and target 10\n",
        "    \"\"\"\n",
        "    assert twoNumberSum(data[0],10) == [11,-1]\n",
        "\n",
        "\n",
        "def test_2(data):\n",
        "    \"\"\"\n",
        "    Test evaluation for [4, 6, 1, -3] and target 3\n",
        "    \"\"\"\n",
        "    assert twoNumberSum(data[1],3) == [6,-3]\n",
        "\n",
        "def test_3(data):\n",
        "    \"\"\"\n",
        "    Test evaluation for [1, 2, 3, 4, 5, 6, 7, 8, 9, 15] and target 26\n",
        "    \"\"\"\n",
        "    assert twoNumberSum(data[2],26) == []\n",
        "\n",
        "def test_4(data):\n",
        "    \"\"\"\n",
        "    Test evaluation for [15] and target 15\n",
        "    \"\"\"\n",
        "    assert twoNumberSum(data[3],15) == []\n",
        "\n",
        "def test_5(data):\n",
        "    \"\"\"\n",
        "    Test evaluation for [-21, 301, 12, 4, 65, 56, 210, 356, 9, -47] and target 164\n",
        "    \"\"\"\n",
        "    assert twoNumberSum(data[4],164) == [] \n",
        "\n",
        "def test_6(data):\n",
        "    \"\"\"\n",
        "    Test evaluation for [-21, 301, 12, 4, 65, 56, 210, 356, 9, -47] and target 163\n",
        "    \"\"\"\n",
        "    assert twoNumberSum(data[5],163) == [210, -47] \n",
        "\n",
        "def test_7(data):\n",
        "    \"\"\"\n",
        "    Test evaluation for [-7, -5, -3, -1, 0, 1, 3, 5, 7] and target -5\n",
        "    \"\"\"\n",
        "    assert twoNumberSum(data[6],-5) == [-5, 0]"
      ],
      "metadata": {
        "colab": {
          "base_uri": "https://localhost:8080/"
        },
        "id": "SF47ASutRMds",
        "outputId": "a3f316bb-7ed3-4b87-f0ed-426705b1351c"
      },
      "execution_count": 2,
      "outputs": [
        {
          "output_type": "stream",
          "name": "stdout",
          "text": [
            "Writing test_data.py\n"
          ]
        }
      ]
    },
    {
      "cell_type": "markdown",
      "source": [
        "### Test results for twoNumberSum"
      ],
      "metadata": {
        "id": "etkbq-SE-B9y"
      }
    },
    {
      "cell_type": "code",
      "source": [
        "!pytest . -vv"
      ],
      "metadata": {
        "colab": {
          "base_uri": "https://localhost:8080/"
        },
        "id": "zYzm4j4WSUSu",
        "outputId": "479f3339-0d9e-4ce6-aaed-53797580ba65"
      },
      "execution_count": 3,
      "outputs": [
        {
          "output_type": "stream",
          "name": "stdout",
          "text": [
            "\u001b[1mTest session starts (platform: linux, Python 3.7.14, pytest 3.6.4, pytest-sugar 0.9.5)\u001b[0m\n",
            "cachedir: .pytest_cache\n",
            "rootdir: /content, inifile:\n",
            "plugins: typeguard-2.7.1, sugar-0.9.5\n",
            "\r\n",
            "\r \u001b[36mtest_data.py\u001b[0m::test_1\u001b[0m \u001b[32m✓\u001b[0m                                           \u001b[32m14% \u001b[0m\u001b[40m\u001b[32m█\u001b[0m\u001b[40m\u001b[32m▌        \u001b[0m\r\n",
            "\r \u001b[36mtest_data.py\u001b[0m::test_2\u001b[0m \u001b[32m✓\u001b[0m                                           \u001b[32m29% \u001b[0m\u001b[40m\u001b[32m█\u001b[0m\u001b[40m\u001b[32m█\u001b[0m\u001b[40m\u001b[32m▉       \u001b[0m\r\n",
            "\r \u001b[36mtest_data.py\u001b[0m::test_3\u001b[0m \u001b[32m✓\u001b[0m                                           \u001b[32m43% \u001b[0m\u001b[40m\u001b[32m█\u001b[0m\u001b[40m\u001b[32m█\u001b[0m\u001b[40m\u001b[32m█\u001b[0m\u001b[40m\u001b[32m█▍     \u001b[0m\r\n",
            "\r \u001b[36mtest_data.py\u001b[0m::test_4\u001b[0m \u001b[32m✓\u001b[0m                                           \u001b[32m57% \u001b[0m\u001b[40m\u001b[32m█\u001b[0m\u001b[40m\u001b[32m█\u001b[0m\u001b[40m\u001b[32m█\u001b[0m\u001b[40m\u001b[32m█\u001b[0m\u001b[40m\u001b[32m█\u001b[0m\u001b[40m\u001b[32m▊    \u001b[0m\r\n",
            "\r \u001b[36mtest_data.py\u001b[0m::test_5\u001b[0m \u001b[32m✓\u001b[0m                                           \u001b[32m71% \u001b[0m\u001b[40m\u001b[32m█\u001b[0m\u001b[40m\u001b[32m█\u001b[0m\u001b[40m\u001b[32m█\u001b[0m\u001b[40m\u001b[32m█\u001b[0m\u001b[40m\u001b[32m█\u001b[0m\u001b[40m\u001b[32m█\u001b[0m\u001b[40m\u001b[32m█▎  \u001b[0m\r\n",
            "\r \u001b[36mtest_data.py\u001b[0m::test_6\u001b[0m \u001b[32m✓\u001b[0m                                           \u001b[32m86% \u001b[0m\u001b[40m\u001b[32m█\u001b[0m\u001b[40m\u001b[32m█\u001b[0m\u001b[40m\u001b[32m█\u001b[0m\u001b[40m\u001b[32m█\u001b[0m\u001b[40m\u001b[32m█\u001b[0m\u001b[40m\u001b[32m█\u001b[0m\u001b[40m\u001b[32m█\u001b[0m\u001b[40m\u001b[32m█\u001b[0m\u001b[40m\u001b[32m▋ \u001b[0m\r\n",
            "\r \u001b[36mtest_data.py\u001b[0m::test_7\u001b[0m \u001b[32m✓\u001b[0m                                          \u001b[32m100% \u001b[0m\u001b[40m\u001b[32m█\u001b[0m\u001b[40m\u001b[32m█\u001b[0m\u001b[40m\u001b[32m█\u001b[0m\u001b[40m\u001b[32m█\u001b[0m\u001b[40m\u001b[32m█\u001b[0m\u001b[40m\u001b[32m█\u001b[0m\u001b[40m\u001b[32m█\u001b[0m\u001b[40m\u001b[32m█\u001b[0m\u001b[40m\u001b[32m█\u001b[0m\u001b[40m\u001b[32m█\u001b[0m\n",
            "\n",
            "Results (0.07s):\n",
            "\u001b[32m       7 passed\u001b[0m\n"
          ]
        }
      ]
    },
    {
      "cell_type": "markdown",
      "source": [
        "## twoNumberSum2: complexity O(n)"
      ],
      "metadata": {
        "id": "uYxoOP8K-eW2"
      }
    },
    {
      "cell_type": "code",
      "source": [
        "%%file test_data.py\n",
        "import pytest\n",
        "\n",
        "def twoNumberSum2(array, targetSum):\n",
        "  '''\n",
        "  Description:\n",
        "  A function that take in a non-empty array of distinct integers\n",
        "  and an integer representing a target sum. If any two numbers \n",
        "  in the input array sum up to the target sum, the function should\n",
        "  return then in an array, in any order. \n",
        "  If no two numbers sum up to the target sum, \n",
        "  the function should return an empty array.\n",
        "\n",
        "  Parameters:\n",
        "  array <list>: list of integers\n",
        "  targetSum <integer>: integer representing a target sum\n",
        "\n",
        "  Return:\n",
        "  Interger pair which sum is equal to targetSum\n",
        "  empty otherwise\n",
        "  '''\n",
        "  solution = {}\n",
        "  for val in array:\n",
        "    y = targetSum - val\n",
        "    if y not in solution:\n",
        "      solution[val] = True\n",
        "    else:\n",
        "      return [y, val]\n",
        "  return []\n",
        "\n",
        "@pytest.fixture(scope=\"session\")\n",
        "def data():\n",
        "    \n",
        "    array = []\n",
        "    \n",
        "    # test 1 data\n",
        "    array.append([3, 5, -4, 8, 11, 1, -1, 6])\n",
        "\n",
        "    # test 2 data\n",
        "    array.append([4, 6, 1, -3])\n",
        "\n",
        "    # test 3 data\n",
        "    array.append([1, 2, 3, 4, 5, 6, 7, 8, 9, 15])\n",
        "\n",
        "    # test 4 data\n",
        "    array.append([15])\n",
        "\n",
        "    # test 5 data\n",
        "    array.append([-21, 301, 12, 4, 65, 56, 210, 356, 9, -47])\n",
        "\n",
        "    # test 6 data\n",
        "    array.append([-21, 301, 12, 4, 65, 56, 210, 356, 9, -47])\n",
        "\n",
        "    # test 7 data\n",
        "    array.append([-7, -5, -3, -1, 0, 1, 3, 5, 7])\n",
        "    \n",
        "    return array\n",
        "\n",
        "def test_1(data):\n",
        "    \"\"\"\n",
        "    Test evaluation for [3, 5, -4, 8, 11, 1, -1, 6] and target 10\n",
        "    \"\"\"\n",
        "    assert twoNumberSum2(data[0],10) == [11,-1]\n",
        "\n",
        "\n",
        "def test_2(data):\n",
        "    \"\"\"\n",
        "    Test evaluation for [4, 6, 1, -3] and target 3\n",
        "    \"\"\"\n",
        "    assert twoNumberSum2(data[1],3) == [6,-3]\n",
        "\n",
        "def test_3(data):\n",
        "    \"\"\"\n",
        "    Test evaluation for [1, 2, 3, 4, 5, 6, 7, 8, 9, 15] and target 26\n",
        "    \"\"\"\n",
        "    assert twoNumberSum2(data[2],26) == []\n",
        "\n",
        "def test_4(data):\n",
        "    \"\"\"\n",
        "    Test evaluation for [15] and target 15\n",
        "    \"\"\"\n",
        "    assert twoNumberSum2(data[3],15) == []\n",
        "\n",
        "def test_5(data):\n",
        "    \"\"\"\n",
        "    Test evaluation for [-21, 301, 12, 4, 65, 56, 210, 356, 9, -47] and target 164\n",
        "    \"\"\"\n",
        "    assert twoNumberSum2(data[4],164) == [] \n",
        "\n",
        "def test_6(data):\n",
        "    \"\"\"\n",
        "    Test evaluation for [-21, 301, 12, 4, 65, 56, 210, 356, 9, -47] and target 163\n",
        "    \"\"\"\n",
        "    assert twoNumberSum2(data[5],163) == [210, -47] \n",
        "\n",
        "def test_7(data):\n",
        "    \"\"\"\n",
        "    Test evaluation for [-7, -5, -3, -1, 0, 1, 3, 5, 7] and target -5\n",
        "    \"\"\"\n",
        "    assert twoNumberSum2(data[6],-5) == [-5, 0]"
      ],
      "metadata": {
        "id": "6nJIUd__9UZm",
        "colab": {
          "base_uri": "https://localhost:8080/"
        },
        "outputId": "3603f58b-5247-4f66-fc3a-85103ffedf3a"
      },
      "execution_count": 6,
      "outputs": [
        {
          "output_type": "stream",
          "name": "stdout",
          "text": [
            "Overwriting test_data.py\n"
          ]
        }
      ]
    },
    {
      "cell_type": "markdown",
      "source": [
        "### Test results for twoNumberSum2"
      ],
      "metadata": {
        "id": "4Tye9JiugZWo"
      }
    },
    {
      "cell_type": "code",
      "source": [
        "!pytest . -vv"
      ],
      "metadata": {
        "colab": {
          "base_uri": "https://localhost:8080/"
        },
        "id": "GphEA76KgVxA",
        "outputId": "309eeb1c-7d9f-4fef-9ed1-e42311fc9d07"
      },
      "execution_count": 7,
      "outputs": [
        {
          "output_type": "stream",
          "name": "stdout",
          "text": [
            "\u001b[1mTest session starts (platform: linux, Python 3.7.14, pytest 3.6.4, pytest-sugar 0.9.5)\u001b[0m\n",
            "cachedir: .pytest_cache\n",
            "rootdir: /content, inifile:\n",
            "plugins: typeguard-2.7.1, sugar-0.9.5\n",
            "\r\n",
            "\r \u001b[36mtest_data.py\u001b[0m::test_1\u001b[0m \u001b[32m✓\u001b[0m                                           \u001b[32m14% \u001b[0m\u001b[40m\u001b[32m█\u001b[0m\u001b[40m\u001b[32m▌        \u001b[0m\r\n",
            "\r \u001b[36mtest_data.py\u001b[0m::test_2\u001b[0m \u001b[32m✓\u001b[0m                                           \u001b[32m29% \u001b[0m\u001b[40m\u001b[32m█\u001b[0m\u001b[40m\u001b[32m█\u001b[0m\u001b[40m\u001b[32m▉       \u001b[0m\r\n",
            "\r \u001b[36mtest_data.py\u001b[0m::test_3\u001b[0m \u001b[32m✓\u001b[0m                                           \u001b[32m43% \u001b[0m\u001b[40m\u001b[32m█\u001b[0m\u001b[40m\u001b[32m█\u001b[0m\u001b[40m\u001b[32m█\u001b[0m\u001b[40m\u001b[32m█▍     \u001b[0m\r\n",
            "\r \u001b[36mtest_data.py\u001b[0m::test_4\u001b[0m \u001b[32m✓\u001b[0m                                           \u001b[32m57% \u001b[0m\u001b[40m\u001b[32m█\u001b[0m\u001b[40m\u001b[32m█\u001b[0m\u001b[40m\u001b[32m█\u001b[0m\u001b[40m\u001b[32m█\u001b[0m\u001b[40m\u001b[32m█\u001b[0m\u001b[40m\u001b[32m▊    \u001b[0m\r\n",
            "\r \u001b[36mtest_data.py\u001b[0m::test_5\u001b[0m \u001b[32m✓\u001b[0m                                           \u001b[32m71% \u001b[0m\u001b[40m\u001b[32m█\u001b[0m\u001b[40m\u001b[32m█\u001b[0m\u001b[40m\u001b[32m█\u001b[0m\u001b[40m\u001b[32m█\u001b[0m\u001b[40m\u001b[32m█\u001b[0m\u001b[40m\u001b[32m█\u001b[0m\u001b[40m\u001b[32m█▎  \u001b[0m\r\n",
            "\r \u001b[36mtest_data.py\u001b[0m::test_6\u001b[0m \u001b[32m✓\u001b[0m                                           \u001b[32m86% \u001b[0m\u001b[40m\u001b[32m█\u001b[0m\u001b[40m\u001b[32m█\u001b[0m\u001b[40m\u001b[32m█\u001b[0m\u001b[40m\u001b[32m█\u001b[0m\u001b[40m\u001b[32m█\u001b[0m\u001b[40m\u001b[32m█\u001b[0m\u001b[40m\u001b[32m█\u001b[0m\u001b[40m\u001b[32m█\u001b[0m\u001b[40m\u001b[32m▋ \u001b[0m\r\n",
            "\r \u001b[36mtest_data.py\u001b[0m::test_7\u001b[0m \u001b[32m✓\u001b[0m                                          \u001b[32m100% \u001b[0m\u001b[40m\u001b[32m█\u001b[0m\u001b[40m\u001b[32m█\u001b[0m\u001b[40m\u001b[32m█\u001b[0m\u001b[40m\u001b[32m█\u001b[0m\u001b[40m\u001b[32m█\u001b[0m\u001b[40m\u001b[32m█\u001b[0m\u001b[40m\u001b[32m█\u001b[0m\u001b[40m\u001b[32m█\u001b[0m\u001b[40m\u001b[32m█\u001b[0m\u001b[40m\u001b[32m█\u001b[0m\n",
            "\n",
            "Results (0.04s):\n",
            "\u001b[32m       7 passed\u001b[0m\n"
          ]
        }
      ]
    }
  ]
}